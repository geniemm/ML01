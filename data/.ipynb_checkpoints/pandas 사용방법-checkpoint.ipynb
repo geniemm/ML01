{
 "cells": [
  {
   "cell_type": "markdown",
   "id": "e1d2e524",
   "metadata": {},
   "source": [
    "### jupyter 사용방법\n",
    "* h :help\n",
    "- a,b:셀추가\n",
    "* m,y :마크업 또는 코드\n",
    "* dd : 셀 한칸 삭제\n",
    "* 컨트롤 + 엔터 : 실행"
   ]
  },
  {
   "cell_type": "markdown",
   "id": "3b9adcd3",
   "metadata": {},
   "source": [
    "##### pandas 불러옴"
   ]
  },
  {
   "cell_type": "code",
   "execution_count": 1,
   "id": "fc932c48",
   "metadata": {},
   "outputs": [],
   "source": [
    "\n",
    "import pandas as pd"
   ]
  },
  {
   "cell_type": "code",
   "execution_count": 3,
   "id": "e4b56219",
   "metadata": {},
   "outputs": [],
   "source": [
    "# 데이터 읽기\n",
    "df = pd.read_csv(\"1.pandas.csv\")"
   ]
  },
  {
   "cell_type": "code",
   "execution_count": 7,
   "id": "5ef9f3ad",
   "metadata": {
    "scrolled": true
   },
   "outputs": [
    {
     "data": {
      "text/html": [
       "<div>\n",
       "<style scoped>\n",
       "    .dataframe tbody tr th:only-of-type {\n",
       "        vertical-align: middle;\n",
       "    }\n",
       "\n",
       "    .dataframe tbody tr th {\n",
       "        vertical-align: top;\n",
       "    }\n",
       "\n",
       "    .dataframe thead th {\n",
       "        text-align: right;\n",
       "    }\n",
       "</style>\n",
       "<table border=\"1\" class=\"dataframe\">\n",
       "  <thead>\n",
       "    <tr style=\"text-align: right;\">\n",
       "      <th></th>\n",
       "      <th>name</th>\n",
       "      <th>score</th>\n",
       "      <th>grade</th>\n",
       "      <th>age</th>\n",
       "    </tr>\n",
       "  </thead>\n",
       "  <tbody>\n",
       "    <tr>\n",
       "      <th>0</th>\n",
       "      <td>Kim</td>\n",
       "      <td>100.0</td>\n",
       "      <td>A</td>\n",
       "      <td>20</td>\n",
       "    </tr>\n",
       "    <tr>\n",
       "      <th>1</th>\n",
       "      <td>Cho</td>\n",
       "      <td>95.0</td>\n",
       "      <td>A</td>\n",
       "      <td>30</td>\n",
       "    </tr>\n",
       "    <tr>\n",
       "      <th>2</th>\n",
       "      <td>Choi</td>\n",
       "      <td>90.5</td>\n",
       "      <td>B</td>\n",
       "      <td>40</td>\n",
       "    </tr>\n",
       "    <tr>\n",
       "      <th>3</th>\n",
       "      <td>jo</td>\n",
       "      <td>85.7</td>\n",
       "      <td>B</td>\n",
       "      <td>50</td>\n",
       "    </tr>\n",
       "  </tbody>\n",
       "</table>\n",
       "</div>"
      ],
      "text/plain": [
       "   name  score grade  age\n",
       "0   Kim  100.0     A   20\n",
       "1   Cho   95.0     A   30\n",
       "2  Choi   90.5     B   40\n",
       "3    jo   85.7     B   50"
      ]
     },
     "execution_count": 7,
     "metadata": {},
     "output_type": "execute_result"
    }
   ],
   "source": [
    "df"
   ]
  },
  {
   "cell_type": "code",
   "execution_count": 5,
   "id": "906eca92",
   "metadata": {},
   "outputs": [
    {
     "data": {
      "text/plain": [
       "20"
      ]
     },
     "execution_count": 5,
     "metadata": {},
     "output_type": "execute_result"
    }
   ],
   "source": [
    "name = '홍길동'\n",
    "age = 20;\n",
    "name\n",
    "age"
   ]
  },
  {
   "cell_type": "markdown",
   "id": "5613174b",
   "metadata": {},
   "source": [
    "##### [ ] 대괄호 하나만 치면  1차원 배열로 만들어지면 시리즈(Series)"
   ]
  },
  {
   "cell_type": "code",
   "execution_count": 8,
   "id": "25a54960",
   "metadata": {},
   "outputs": [
    {
     "name": "stdout",
     "output_type": "stream",
     "text": [
      "0     Kim\n",
      "1     Cho\n",
      "2    Choi\n",
      "3      jo\n",
      "Name: name, dtype: object\n",
      "0    20\n",
      "1    30\n",
      "2    40\n",
      "3    50\n",
      "Name: age, dtype: int64\n"
     ]
    }
   ],
   "source": [
    "print(df['name']) \n",
    "print(df.age)"
   ]
  },
  {
   "cell_type": "code",
   "execution_count": 9,
   "id": "4119ee81",
   "metadata": {},
   "outputs": [
    {
     "name": "stdout",
     "output_type": "stream",
     "text": [
      "   name  age\n",
      "0   Kim   20\n",
      "1   Cho   30\n",
      "2  Choi   40\n",
      "3    jo   50\n"
     ]
    }
   ],
   "source": [
    "# [[]] 두개치면 이차원 배열(DataFrame) >> 여러개의 값을 한번가져올때 사용\n",
    "print(df[['name','age']])"
   ]
  },
  {
   "cell_type": "code",
   "execution_count": 10,
   "id": "e6b4d774",
   "metadata": {},
   "outputs": [
    {
     "name": "stdout",
     "output_type": "stream",
     "text": [
      "--- 인덱싱 ---\n",
      "   name  score grade  age\n",
      "1   Cho   95.0     A   30\n",
      "2  Choi   90.5     B   40\n",
      "   name  score grade  age\n",
      "0   Kim  100.0     A   20\n",
      "1   Cho   95.0     A   30\n",
      "2  Choi   90.5     B   40\n"
     ]
    }
   ],
   "source": [
    "print(\"--- 인덱싱 ---\")\n",
    "# 인덱싱 : 인덱스의 범위를 지정한다\n",
    "print(df[1:3]) #1~2 까지의 데이터\n",
    "print(df[:3]) # 처음(0)부터 3번째 전까지(2)"
   ]
  },
  {
   "cell_type": "code",
   "execution_count": 11,
   "id": "9847910a",
   "metadata": {},
   "outputs": [
    {
     "name": "stdout",
     "output_type": "stream",
     "text": [
      "--- LOC ---\n",
      "1    95.0\n",
      "2    90.5\n",
      "3    85.7\n",
      "Name: score, dtype: float64\n",
      "   name  score\n",
      "1   Cho   95.0\n",
      "2  Choi   90.5\n",
      "3    jo   85.7\n",
      "   name  score grade\n",
      "0   Kim  100.0     A\n",
      "1   Cho   95.0     A\n",
      "2  Choi   90.5     B\n",
      "3    jo   85.7     B\n",
      "   name  score grade  age\n",
      "0   Kim  100.0     A   20\n",
      "1   Cho   95.0     A   30\n",
      "2  Choi   90.5     B   40\n",
      "3    jo   85.7     B   50\n"
     ]
    }
   ],
   "source": [
    "print(\"--- LOC ---\")\n",
    "#loc : dataFrame.loc[ index조건식, 컬럼 조건식 ]\n",
    "print(df.loc[1:3,'score']) # 3번까지 포함시킨당\n",
    "print(df.loc[1:3,['name','score']])\n",
    "print(df.loc[:,'name':'grade']) #뒤쪽의 : 은 생략가능이다\n",
    "print(df.loc[:, ]) # 다 가져오는거"
   ]
  },
  {
   "cell_type": "code",
   "execution_count": 12,
   "id": "4fc284e1",
   "metadata": {},
   "outputs": [
    {
     "name": "stdout",
     "output_type": "stream",
     "text": [
      "===============\n",
      "0     True\n",
      "1     True\n",
      "2    False\n",
      "3    False\n",
      "Name: grade, dtype: bool\n",
      "  name  score grade  age\n",
      "0  Kim  100.0     A   20\n",
      "1  Cho   95.0     A   30\n"
     ]
    }
   ],
   "source": [
    "print(\"===============\")\n",
    "print( df['grade']=='A') # 비교하는값은 T또는F가 나온다\n",
    "print( df[df['grade']=='A']) #위랑 관련되어있는 트루의 정보값만 가져온다\n"
   ]
  }
 ],
 "metadata": {
  "kernelspec": {
   "display_name": "Python 3 (ipykernel)",
   "language": "python",
   "name": "python3"
  },
  "language_info": {
   "codemirror_mode": {
    "name": "ipython",
    "version": 3
   },
   "file_extension": ".py",
   "mimetype": "text/x-python",
   "name": "python",
   "nbconvert_exporter": "python",
   "pygments_lexer": "ipython3",
   "version": "3.11.4"
  }
 },
 "nbformat": 4,
 "nbformat_minor": 5
}
